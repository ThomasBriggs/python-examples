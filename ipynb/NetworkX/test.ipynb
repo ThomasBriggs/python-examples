{
 "cells": [
  {
   "cell_type": "code",
   "execution_count": 1,
   "metadata": {},
   "outputs": [
    {
     "ename": "NotFoundError",
     "evalue": "tensorflow_gnn/testdata/homogeneous/citrus.pbtxt; No such file or directory",
     "output_type": "error",
     "traceback": [
      "\u001b[0;31m---------------------------------------------------------------------------\u001b[0m",
      "\u001b[0;31mNotFoundError\u001b[0m                             Traceback (most recent call last)",
      "\u001b[1;32m/home/thomas/Documents/python-examples/ipynb/NetworkX/test.ipynb Cell 1'\u001b[0m in \u001b[0;36m<module>\u001b[0;34m\u001b[0m\n\u001b[1;32m      <a href='vscode-notebook-cell:/home/thomas/Documents/python-examples/ipynb/NetworkX/test.ipynb#ch0000000?line=1'>2</a>\u001b[0m \u001b[39mimport\u001b[39;00m \u001b[39mtensorflow_gnn\u001b[39;00m \u001b[39mas\u001b[39;00m \u001b[39mtfgnn\u001b[39;00m\n\u001b[1;32m      <a href='vscode-notebook-cell:/home/thomas/Documents/python-examples/ipynb/NetworkX/test.ipynb#ch0000000?line=3'>4</a>\u001b[0m tf\u001b[39m.\u001b[39mdebugging\u001b[39m.\u001b[39mdisable_traceback_filtering()\n\u001b[0;32m----> <a href='vscode-notebook-cell:/home/thomas/Documents/python-examples/ipynb/NetworkX/test.ipynb#ch0000000?line=5'>6</a>\u001b[0m schema \u001b[39m=\u001b[39m tfgnn\u001b[39m.\u001b[39;49mread_schema(\u001b[39m\"\u001b[39;49m\u001b[39mtensorflow_gnn/testdata/homogeneous/citrus.pbtxt\u001b[39;49m\u001b[39m\"\u001b[39;49m)\n\u001b[1;32m      <a href='vscode-notebook-cell:/home/thomas/Documents/python-examples/ipynb/NetworkX/test.ipynb#ch0000000?line=6'>7</a>\u001b[0m spec \u001b[39m=\u001b[39m tfgnn\u001b[39m.\u001b[39mcreate_graph_spec_from_schema_pb(schema)\n\u001b[1;32m      <a href='vscode-notebook-cell:/home/thomas/Documents/python-examples/ipynb/NetworkX/test.ipynb#ch0000000?line=7'>8</a>\u001b[0m graph \u001b[39m=\u001b[39m tfgnn\u001b[39m.\u001b[39mrandom_graph_tensor(spec)\n",
      "File \u001b[0;32m~/Documents/python-examples/ipynb/NetworkX/env/lib/python3.9/site-packages/tensorflow_gnn/graph/schema_utils.py:38\u001b[0m, in \u001b[0;36mread_schema\u001b[0;34m(filename)\u001b[0m\n\u001b[1;32m     <a href='file:///~/Documents/python-examples/ipynb/NetworkX/env/lib/python3.9/site-packages/tensorflow_gnn/graph/schema_utils.py?line=27'>28</a>\u001b[0m \u001b[39m\"\"\"Read a proto schema from a file with text-formatted contents.\u001b[39;00m\n\u001b[1;32m     <a href='file:///~/Documents/python-examples/ipynb/NetworkX/env/lib/python3.9/site-packages/tensorflow_gnn/graph/schema_utils.py?line=28'>29</a>\u001b[0m \n\u001b[1;32m     <a href='file:///~/Documents/python-examples/ipynb/NetworkX/env/lib/python3.9/site-packages/tensorflow_gnn/graph/schema_utils.py?line=29'>30</a>\u001b[0m \u001b[39mArgs:\u001b[39;00m\n\u001b[0;32m   (...)\u001b[0m\n\u001b[1;32m     <a href='file:///~/Documents/python-examples/ipynb/NetworkX/env/lib/python3.9/site-packages/tensorflow_gnn/graph/schema_utils.py?line=34'>35</a>\u001b[0m \u001b[39m  A `GraphSchema` instance.\u001b[39;00m\n\u001b[1;32m     <a href='file:///~/Documents/python-examples/ipynb/NetworkX/env/lib/python3.9/site-packages/tensorflow_gnn/graph/schema_utils.py?line=35'>36</a>\u001b[0m \u001b[39m\"\"\"\u001b[39;00m\n\u001b[1;32m     <a href='file:///~/Documents/python-examples/ipynb/NetworkX/env/lib/python3.9/site-packages/tensorflow_gnn/graph/schema_utils.py?line=36'>37</a>\u001b[0m \u001b[39mwith\u001b[39;00m tf\u001b[39m.\u001b[39mio\u001b[39m.\u001b[39mgfile\u001b[39m.\u001b[39mGFile(filename) \u001b[39mas\u001b[39;00m infile:\n\u001b[0;32m---> <a href='file:///~/Documents/python-examples/ipynb/NetworkX/env/lib/python3.9/site-packages/tensorflow_gnn/graph/schema_utils.py?line=37'>38</a>\u001b[0m   \u001b[39mreturn\u001b[39;00m text_format\u001b[39m.\u001b[39mParse(infile\u001b[39m.\u001b[39;49mread(), schema_pb2\u001b[39m.\u001b[39mGraphSchema())\n",
      "File \u001b[0;32m~/Documents/python-examples/ipynb/NetworkX/env/lib/python3.9/site-packages/tensorflow/python/lib/io/file_io.py:114\u001b[0m, in \u001b[0;36mFileIO.read\u001b[0;34m(self, n)\u001b[0m\n\u001b[1;32m    <a href='file:///~/Documents/python-examples/ipynb/NetworkX/env/lib/python3.9/site-packages/tensorflow/python/lib/io/file_io.py?line=101'>102</a>\u001b[0m \u001b[39mdef\u001b[39;00m \u001b[39mread\u001b[39m(\u001b[39mself\u001b[39m, n\u001b[39m=\u001b[39m\u001b[39m-\u001b[39m\u001b[39m1\u001b[39m):\n\u001b[1;32m    <a href='file:///~/Documents/python-examples/ipynb/NetworkX/env/lib/python3.9/site-packages/tensorflow/python/lib/io/file_io.py?line=102'>103</a>\u001b[0m   \u001b[39m\"\"\"Returns the contents of a file as a string.\u001b[39;00m\n\u001b[1;32m    <a href='file:///~/Documents/python-examples/ipynb/NetworkX/env/lib/python3.9/site-packages/tensorflow/python/lib/io/file_io.py?line=103'>104</a>\u001b[0m \n\u001b[1;32m    <a href='file:///~/Documents/python-examples/ipynb/NetworkX/env/lib/python3.9/site-packages/tensorflow/python/lib/io/file_io.py?line=104'>105</a>\u001b[0m \u001b[39m  Starts reading from current position in file.\u001b[39;00m\n\u001b[0;32m   (...)\u001b[0m\n\u001b[1;32m    <a href='file:///~/Documents/python-examples/ipynb/NetworkX/env/lib/python3.9/site-packages/tensorflow/python/lib/io/file_io.py?line=111'>112</a>\u001b[0m \u001b[39m    string if in string (regular) mode.\u001b[39;00m\n\u001b[1;32m    <a href='file:///~/Documents/python-examples/ipynb/NetworkX/env/lib/python3.9/site-packages/tensorflow/python/lib/io/file_io.py?line=112'>113</a>\u001b[0m \u001b[39m  \"\"\"\u001b[39;00m\n\u001b[0;32m--> <a href='file:///~/Documents/python-examples/ipynb/NetworkX/env/lib/python3.9/site-packages/tensorflow/python/lib/io/file_io.py?line=113'>114</a>\u001b[0m   \u001b[39mself\u001b[39;49m\u001b[39m.\u001b[39;49m_preread_check()\n\u001b[1;32m    <a href='file:///~/Documents/python-examples/ipynb/NetworkX/env/lib/python3.9/site-packages/tensorflow/python/lib/io/file_io.py?line=114'>115</a>\u001b[0m   \u001b[39mif\u001b[39;00m n \u001b[39m==\u001b[39m \u001b[39m-\u001b[39m\u001b[39m1\u001b[39m:\n\u001b[1;32m    <a href='file:///~/Documents/python-examples/ipynb/NetworkX/env/lib/python3.9/site-packages/tensorflow/python/lib/io/file_io.py?line=115'>116</a>\u001b[0m     length \u001b[39m=\u001b[39m \u001b[39mself\u001b[39m\u001b[39m.\u001b[39msize() \u001b[39m-\u001b[39m \u001b[39mself\u001b[39m\u001b[39m.\u001b[39mtell()\n",
      "File \u001b[0;32m~/Documents/python-examples/ipynb/NetworkX/env/lib/python3.9/site-packages/tensorflow/python/lib/io/file_io.py:76\u001b[0m, in \u001b[0;36mFileIO._preread_check\u001b[0;34m(self)\u001b[0m\n\u001b[1;32m     <a href='file:///~/Documents/python-examples/ipynb/NetworkX/env/lib/python3.9/site-packages/tensorflow/python/lib/io/file_io.py?line=72'>73</a>\u001b[0m \u001b[39mif\u001b[39;00m \u001b[39mnot\u001b[39;00m \u001b[39mself\u001b[39m\u001b[39m.\u001b[39m_read_check_passed:\n\u001b[1;32m     <a href='file:///~/Documents/python-examples/ipynb/NetworkX/env/lib/python3.9/site-packages/tensorflow/python/lib/io/file_io.py?line=73'>74</a>\u001b[0m   \u001b[39mraise\u001b[39;00m errors\u001b[39m.\u001b[39mPermissionDeniedError(\u001b[39mNone\u001b[39;00m, \u001b[39mNone\u001b[39;00m,\n\u001b[1;32m     <a href='file:///~/Documents/python-examples/ipynb/NetworkX/env/lib/python3.9/site-packages/tensorflow/python/lib/io/file_io.py?line=74'>75</a>\u001b[0m                                      \u001b[39m\"\u001b[39m\u001b[39mFile isn\u001b[39m\u001b[39m'\u001b[39m\u001b[39mt open for reading\u001b[39m\u001b[39m\"\u001b[39m)\n\u001b[0;32m---> <a href='file:///~/Documents/python-examples/ipynb/NetworkX/env/lib/python3.9/site-packages/tensorflow/python/lib/io/file_io.py?line=75'>76</a>\u001b[0m \u001b[39mself\u001b[39m\u001b[39m.\u001b[39m_read_buf \u001b[39m=\u001b[39m _pywrap_file_io\u001b[39m.\u001b[39;49mBufferedInputStream(\n\u001b[1;32m     <a href='file:///~/Documents/python-examples/ipynb/NetworkX/env/lib/python3.9/site-packages/tensorflow/python/lib/io/file_io.py?line=76'>77</a>\u001b[0m     compat\u001b[39m.\u001b[39;49mpath_to_str(\u001b[39mself\u001b[39;49m\u001b[39m.\u001b[39;49m__name), \u001b[39m1024\u001b[39;49m \u001b[39m*\u001b[39;49m \u001b[39m512\u001b[39;49m)\n",
      "\u001b[0;31mNotFoundError\u001b[0m: tensorflow_gnn/testdata/homogeneous/citrus.pbtxt; No such file or directory"
     ]
    }
   ],
   "source": [
    "import tensorflow as tf\n",
    "import tensorflow_gnn as tfgnn\n",
    "\n",
    "tf.debugging.disable_traceback_filtering()\n",
    "\n",
    "schema = tfgnn.read_schema(\"tensorflow_gnn/testdata/homogeneous/citrus.pbtxt\")\n",
    "spec = tfgnn.create_graph_spec_from_schema_pb(schema)\n",
    "graph = tfgnn.random_graph_tensor(spec)\n",
    "\n",
    "gnn = tfgnn.keras.ConvGNNBuilder(\n",
    "    lambda edge: tfgnn.keras.layers.SimpleConvolution(tf.keras.layers.Dense(32)),\n",
    "    lambda node: tfgnn.keras.layers.NextStateFromConcat(tf.keras.layers.Dense(32)),\n",
    ")\n",
    "\n",
    "inputs = tf.keras.layers.Input(type_spec=spec)\n",
    "update = gnn.Convolve()(inputs)\n",
    "output = tfgnn.keras.layers.Readout(node_set_name=\"fruits\")(update)\n",
    "model = tf.keras.Model(inputs, output)\n",
    "\n",
    "model(graph)"
   ]
  }
 ],
 "metadata": {
  "interpreter": {
   "hash": "6ba519cf8b1ef3ba963a9df747edb9feec4e475e1e4de8d3dbe3da64a8b951f5"
  },
  "kernelspec": {
   "display_name": "Python 3.9.10 ('env': venv)",
   "language": "python",
   "name": "python3"
  },
  "language_info": {
   "codemirror_mode": {
    "name": "ipython",
    "version": 3
   },
   "file_extension": ".py",
   "mimetype": "text/x-python",
   "name": "python",
   "nbconvert_exporter": "python",
   "pygments_lexer": "ipython3",
   "version": "3.9.10"
  },
  "orig_nbformat": 4
 },
 "nbformat": 4,
 "nbformat_minor": 2
}

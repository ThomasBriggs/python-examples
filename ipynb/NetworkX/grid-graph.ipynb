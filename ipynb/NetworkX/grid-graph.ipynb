{
 "cells": [
  {
   "cell_type": "code",
   "execution_count": 4,
   "metadata": {},
   "outputs": [],
   "source": [
    "import networkx as nx\n",
    "from tensorflow.keras.datasets import mnist\n",
    "import matplotlib.pyplot as plt\n",
    "import numpy as np"
   ]
  },
  {
   "cell_type": "code",
   "execution_count": 40,
   "metadata": {},
   "outputs": [
    {
     "name": "stdout",
     "output_type": "stream",
     "text": [
      "(60000, 28, 28)\n"
     ]
    },
    {
     "data": {
      "image/png": "[encoded data removed]",
      "text/plain": [
       "<Figure size 432x288 with 1 Axes>"
      ]
     },
     "metadata": {
      "needs_background": "light"
     },
     "output_type": "display_data"
    }
   ],
   "source": [
    "(img, _), _ = mnist.load_data()\n",
    "print(img.shape)\n",
    "plt.imshow(img[59999])\n",
    "plt.show()"
   ]
  },
  {
   "cell_type": "code",
   "execution_count": 20,
   "metadata": {},
   "outputs": [],
   "source": [
    "def graph_generator(data):\n",
    "    G = nx.grid_2d_graph(data.shape[1],data.shape[2])\n",
    "    nx.set_node_attributes(G, 0, \"value\")\n",
    "    for k in range(data.shape[0]):\n",
    "        for i, iv in enumerate(data[k]):\n",
    "            for j, jv in enumerate(iv):\n",
    "                G.nodes[i, j][\"value\"] = jv\n",
    "        yield G\n"
   ]
  },
  {
   "cell_type": "code",
   "execution_count": 7,
   "metadata": {},
   "outputs": [],
   "source": [
    "def print_2d_graph(G):\n",
    "    pos = {(x, y):(y, -x) for x, y in G.nodes()}\n",
    "    plt.figure(figsize=(plt.rcParams[\"figure.figsize\"][0]*2, plt.rcParams[\"figure.figsize\"][1]*2))\n",
    "    colors = [x[\"value\"]/255 for x in G.nodes().values()]\n",
    "    nx.draw(G, pos, node_size=70, node_color=colors)"
   ]
  },
  {
   "cell_type": "code",
   "execution_count": 37,
   "metadata": {},
   "outputs": [],
   "source": [
    "import itertools\n",
    "graphs = graph_generator(img)\n",
    "# sliced_gen = itertools.islice(graphs, 60000)\n",
    "graph_list = [x for x in graphs]\n",
    "# print(len(graph_list))\n",
    "# print_2d_graph(graph_list[10])\n"
   ]
  }
 ],
 "metadata": {
  "interpreter": {
   "hash": "d6cc1b48ae16f10eafcfc5d9834160e52b9d26f3378f7461b2bc28961673c20a"
  },
  "kernelspec": {
   "display_name": "Python 3.9.10 ('env': venv)",
   "language": "python",
   "name": "python3"
  },
  "language_info": {
   "codemirror_mode": {
    "name": "ipython",
    "version": 3
   },
   "file_extension": ".py",
   "mimetype": "text/x-python",
   "name": "python",
   "nbconvert_exporter": "python",
   "pygments_lexer": "ipython3",
   "version": "3.9.10"
  },
  "orig_nbformat": 4
 },
 "nbformat": 4,
 "nbformat_minor": 2
}
